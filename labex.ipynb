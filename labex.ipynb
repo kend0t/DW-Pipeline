{
 "cells": [
  {
   "cell_type": "markdown",
   "metadata": {},
   "source": [
    "###  Lab Exercise #5 Code"
   ]
  },
  {
   "cell_type": "code",
   "execution_count": null,
   "metadata": {},
   "outputs": [],
   "source": [
    "# Importing necessary library\n",
    "import pandas as pd\n",
    "import numpy as np\n",
    "from dateutil.parser import parse\n",
    "from datetime import datetime"
   ]
  },
  {
   "cell_type": "code",
   "execution_count": null,
   "metadata": {},
   "outputs": [],
   "source": [
    "# Loading and Reading CSV file \n",
    "transactions = pd.read_csv('inconsistent_transactions.csv') \n",
    "#transactions\n"
   ]
  },
  {
   "cell_type": "markdown",
   "metadata": {},
   "source": [
    "### Creating a copy of the original transactions data"
   ]
  },
  {
   "cell_type": "code",
   "execution_count": null,
   "metadata": {},
   "outputs": [],
   "source": [
    "\n",
    "modified_data = transactions.copy()\n",
    "modified_data"
   ]
  },
  {
   "cell_type": "markdown",
   "metadata": {},
   "source": [
    "### Extending the range of transaction IDS"
   ]
  },
  {
   "cell_type": "code",
   "execution_count": null,
   "metadata": {},
   "outputs": [],
   "source": [
    "modified_data['transaction_id'] = modified_data['transaction_id'].str.replace(r'^T','T0', regex=True)\n",
    "modified_data"
   ]
  },
  {
   "cell_type": "markdown",
   "metadata": {},
   "source": [
    "### Enforcing a single Product ID format"
   ]
  },
  {
   "cell_type": "code",
   "execution_count": null,
   "metadata": {},
   "outputs": [],
   "source": [
    "pd.reset_option('display.max_rows', None)\n",
    "modified_data['product_id'] = modified_data['product_id'].str.replace(' ','').str.replace('-','').str.replace('p','P')\n",
    "modified_data"
   ]
  },
  {
   "cell_type": "markdown",
   "metadata": {},
   "source": [
    "### Changing the price format\n"
   ]
  },
  {
   "cell_type": "code",
   "execution_count": null,
   "metadata": {},
   "outputs": [],
   "source": [
    "modified_data['price'] = modified_data['price'].str.replace('$','')\n",
    "modified_data['price'] = modified_data['price'].astype(float).round(2)\n",
    "modified_data"
   ]
  },
  {
   "cell_type": "markdown",
   "metadata": {},
   "source": [
    "### Formatting the timestamp\n"
   ]
  },
  {
   "cell_type": "code",
   "execution_count": null,
   "metadata": {},
   "outputs": [],
   "source": [
    "def new_timestamp(row):\n",
    "    try:\n",
    "        if '-' in row and row.count('-') == 2:\n",
    "            try:\n",
    "                ts = datetime.strptime(row, '%d-%m-%Y')\n",
    "                return ts.strftime('%Y-%m-%d') \n",
    "            except ValueError:\n",
    "                pass  \n",
    "        \n",
    "        ts = parse(row)\n",
    "        return ts.strftime('%Y-%m-%d')\n",
    "    \n",
    "    except ValueError:\n",
    "        return row  \n",
    "\n",
    "modified_data['timestamp'] = modified_data['timestamp'].apply(new_timestamp)\n",
    "modified_data = modified_data.sort_values(by='timestamp')\n"
   ]
  },
  {
   "cell_type": "markdown",
   "metadata": {},
   "source": [
    "### Reformatting the TransactionIDs in chronological order"
   ]
  },
  {
   "cell_type": "code",
   "execution_count": null,
   "metadata": {},
   "outputs": [],
   "source": [
    "modified_data['transaction_id'] = ['T{:05d}'.format(i) for i in range(len(modified_data))]\n",
    "modified_data"
   ]
  },
  {
   "cell_type": "markdown",
   "metadata": {},
   "source": [
    "### Computing the unit prices"
   ]
  },
  {
   "cell_type": "code",
   "execution_count": null,
   "metadata": {},
   "outputs": [],
   "source": [
    "## Create a dataframe for rows with complete column values\n",
    "complete_transactions = modified_data.dropna()\n",
    "unique_products = complete_transactions.copy()\n"
   ]
  },
  {
   "cell_type": "code",
   "execution_count": null,
   "metadata": {},
   "outputs": [],
   "source": [
    "## Computation for unit price\n",
    "unique_products['unit_price'] = (unique_products['price'] / unique_products['quantity'])\n"
   ]
  },
  {
   "cell_type": "code",
   "execution_count": null,
   "metadata": {},
   "outputs": [],
   "source": [
    "unique_products['max_unit_price'] = unique_products.groupby('product_id')['unit_price'].transform('max')\n",
    "unique_products = unique_products.drop_duplicates(subset='product_id')\n",
    "unique_products = unique_products.drop(columns=['transaction_id','quantity','price','timestamp','unit_price'])\n",
    "unique_products"
   ]
  },
  {
   "cell_type": "markdown",
   "metadata": {},
   "source": [
    "### Removing rows with null values for both quantity and price"
   ]
  },
  {
   "cell_type": "code",
   "execution_count": null,
   "metadata": {},
   "outputs": [],
   "source": [
    "modified_data = modified_data.dropna(subset=['quantity','price'], how='all')"
   ]
  },
  {
   "cell_type": "markdown",
   "metadata": {},
   "source": [
    "### Computing for the missing unit prices and quantities"
   ]
  },
  {
   "cell_type": "code",
   "execution_count": null,
   "metadata": {},
   "outputs": [],
   "source": [
    "pd.set_option('display.max_rows',None)\n",
    "modified_data = modified_data.merge(unique_products, on='product_id', how='left')\n"
   ]
  },
  {
   "cell_type": "code",
   "execution_count": null,
   "metadata": {},
   "outputs": [],
   "source": [
    "modified_data['price'] = modified_data['price'].fillna((modified_data['max_unit_price'] * modified_data['quantity']).round(2))\n",
    "modified_data['quantity'] = modified_data['quantity'].fillna((modified_data['price'] / modified_data['max_unit_price']).apply(np.floor))\n",
    "modified_data['quantity'] = modified_data['quantity'].replace(0, 1)\n",
    "\n"
   ]
  },
  {
   "cell_type": "code",
   "execution_count": null,
   "metadata": {},
   "outputs": [],
   "source": [
    "# Drop max_unit_price to maintain original data format\n",
    "modified_data = modified_data.drop(columns=['max_unit_price'])\n"
   ]
  },
  {
   "cell_type": "code",
   "execution_count": null,
   "metadata": {},
   "outputs": [],
   "source": [
    "# Change quantity to int\n",
    "modified_data['quantity'] = modified_data['quantity'].astype(int)\n",
    "modified_data"
   ]
  },
  {
   "cell_type": "code",
   "execution_count": null,
   "metadata": {},
   "outputs": [],
   "source": []
  },
  {
   "cell_type": "code",
   "execution_count": null,
   "metadata": {},
   "outputs": [],
   "source": []
  }
 ],
 "metadata": {
  "kernelspec": {
   "display_name": "Python 3",
   "language": "python",
   "name": "python3"
  },
  "language_info": {
   "codemirror_mode": {
    "name": "ipython",
    "version": 3
   },
   "file_extension": ".py",
   "mimetype": "text/x-python",
   "name": "python",
   "nbconvert_exporter": "python",
   "pygments_lexer": "ipython3",
   "version": "3.13.0"
  }
 },
 "nbformat": 4,
 "nbformat_minor": 2
}
